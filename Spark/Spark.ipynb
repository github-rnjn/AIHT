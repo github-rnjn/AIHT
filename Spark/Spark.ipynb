{
  "nbformat": 4,
  "nbformat_minor": 0,
  "metadata": {
    "colab": {
      "provenance": []
    },
    "kernelspec": {
      "name": "python3",
      "display_name": "Python 3"
    },
    "language_info": {
      "name": "python"
    }
  },
  "cells": [
    {
      "cell_type": "markdown",
      "source": [
        "##SALES DATA ANALYSIS"
      ],
      "metadata": {
        "id": "Yp2NFXg0OImr"
      }
    },
    {
      "cell_type": "markdown",
      "source": [
        "###Setup for the pySpark"
      ],
      "metadata": {
        "id": "IW0sYP9tORLi"
      }
    },
    {
      "cell_type": "code",
      "execution_count": 32,
      "metadata": {
        "id": "1LJl5NtzPz85"
      },
      "outputs": [],
      "source": [
        "!apt-get install openjdk-8-jdk-headless -qq > /dev/null\n",
        "!wget -q http://archive.apache.org/dist/spark/spark-3.1.1/spark-3.1.1-bin-hadoop3.2.tgz\n",
        "!tar xf spark-3.1.1-bin-hadoop3.2.tgz\n",
        "!pip install -q findspark"
      ]
    },
    {
      "cell_type": "code",
      "source": [
        "import os\n",
        "os.environ[\"JAVA_HOME\"] = \"/usr/lib/jvm/java-8-openjdk-amd64\"\n",
        "os.environ[\"SPARK_HOME\"] = \"/content/spark-3.1.1-bin-hadoop3.2\""
      ],
      "metadata": {
        "id": "T4LWaz1DP4cn"
      },
      "execution_count": 48,
      "outputs": []
    },
    {
      "cell_type": "code",
      "source": [
        "import findspark\n",
        "findspark.init()\n",
        "from pyspark.sql import SparkSession\n",
        "spark = SparkSession.builder.master(\"local[*]\").getOrCreate()\n",
        "#for MaxRows\n",
        "#spark.conf.set('spark.sql.repl.eagerEval.maxNumRows', True)\n",
        "#To Enable the Spark Rows Show\n",
        "spark.conf.set('spark.sql.repl.eagerEval.enabled', True)\n",
        "#spark.conf.set(\"spark.sql.repl.eagerEval.enabled\", True) # Property used to format output tables better"
      ],
      "metadata": {
        "id": "3jhJ0fFpQTdp"
      },
      "execution_count": 49,
      "outputs": []
    },
    {
      "cell_type": "markdown",
      "source": [
        "###Importing Libraries"
      ],
      "metadata": {
        "id": "_XCS1jJeOXZt"
      }
    },
    {
      "cell_type": "code",
      "source": [
        "from pyspark.sql import functions as F\n",
        "from functools import reduce\n",
        "from operator import add\n",
        "from pyspark.sql.functions import col\n",
        "from pyspark.sql import DataFrame\n",
        "import plotly.express as px\n",
        "import pandas as pd\n",
        "import numpy as np"
      ],
      "metadata": {
        "id": "i8LoFkvkQaTU"
      },
      "execution_count": 50,
      "outputs": []
    },
    {
      "cell_type": "code",
      "source": [
        "spark = SparkSession.builder \\\n",
        "    .appName(\"SalesDataAnalysis\") \\\n",
        "    .getOrCreate()"
      ],
      "metadata": {
        "id": "5GXPOCpMgYeo"
      },
      "execution_count": 51,
      "outputs": []
    },
    {
      "cell_type": "markdown",
      "source": [
        "###Importing Sales Dataest"
      ],
      "metadata": {
        "id": "Cch6GHrtOePM"
      }
    },
    {
      "cell_type": "code",
      "source": [
        "sales_data = spark.read.csv(\"sales_data.csv\", header=True, inferSchema=True)"
      ],
      "metadata": {
        "id": "W8D7H239hUEu"
      },
      "execution_count": 52,
      "outputs": []
    },
    {
      "cell_type": "markdown",
      "source": [
        "The given dataset contains total 2824 rows and 25 columns."
      ],
      "metadata": {
        "id": "x0exOYJ_OjNQ"
      }
    },
    {
      "cell_type": "markdown",
      "source": [
        "###Analysing Dataset"
      ],
      "metadata": {
        "id": "NPauN1OFPIg3"
      }
    },
    {
      "cell_type": "code",
      "source": [
        "sales_data.printSchema()\n",
        "\n",
        "#Before Data Cleaning\n",
        "sales_data.show()"
      ],
      "metadata": {
        "id": "j3CjqpyGyHnh",
        "colab": {
          "base_uri": "https://localhost:8080/"
        },
        "outputId": "dceea957-253f-4030-ce45-ed8000e3307d"
      },
      "execution_count": 72,
      "outputs": [
        {
          "output_type": "stream",
          "name": "stdout",
          "text": [
            "root\n",
            " |-- ORDERNUMBER: integer (nullable = true)\n",
            " |-- QUANTITYORDERED: integer (nullable = true)\n",
            " |-- PRICEEACH: double (nullable = true)\n",
            " |-- ORDERLINENUMBER: integer (nullable = true)\n",
            " |-- SALES: double (nullable = true)\n",
            " |-- ORDERDATE: string (nullable = true)\n",
            " |-- STATUS: string (nullable = true)\n",
            " |-- QTR_ID: integer (nullable = true)\n",
            " |-- MONTH_ID: integer (nullable = true)\n",
            " |-- YEAR_ID: integer (nullable = true)\n",
            " |-- PRODUCTLINE: string (nullable = true)\n",
            " |-- MSRP: integer (nullable = true)\n",
            " |-- PRODUCTCODE: string (nullable = true)\n",
            " |-- CUSTOMERNAME: string (nullable = true)\n",
            " |-- PHONE: string (nullable = true)\n",
            " |-- ADDRESSLINE1: string (nullable = true)\n",
            " |-- ADDRESSLINE2: string (nullable = true)\n",
            " |-- CITY: string (nullable = true)\n",
            " |-- STATE: string (nullable = true)\n",
            " |-- POSTALCODE: string (nullable = true)\n",
            " |-- COUNTRY: string (nullable = true)\n",
            " |-- TERRITORY: string (nullable = true)\n",
            " |-- CONTACTLASTNAME: string (nullable = true)\n",
            " |-- CONTACTFIRSTNAME: string (nullable = true)\n",
            " |-- DEALSIZE: string (nullable = true)\n",
            "\n",
            "+-----------+---------------+---------+---------------+-------+---------------+-------+------+--------+-------+-----------+----+-----------+--------------------+----------------+--------------------+------------+-------------+--------+----------+---------+---------+---------------+----------------+--------+\n",
            "|ORDERNUMBER|QUANTITYORDERED|PRICEEACH|ORDERLINENUMBER|  SALES|      ORDERDATE| STATUS|QTR_ID|MONTH_ID|YEAR_ID|PRODUCTLINE|MSRP|PRODUCTCODE|        CUSTOMERNAME|           PHONE|        ADDRESSLINE1|ADDRESSLINE2|         CITY|   STATE|POSTALCODE|  COUNTRY|TERRITORY|CONTACTLASTNAME|CONTACTFIRSTNAME|DEALSIZE|\n",
            "+-----------+---------------+---------+---------------+-------+---------------+-------+------+--------+-------+-----------+----+-----------+--------------------+----------------+--------------------+------------+-------------+--------+----------+---------+---------+---------------+----------------+--------+\n",
            "|      10107|             30|     95.7|              2| 2871.0| 2/24/2003 0:00|Shipped|     1|       2|   2003|Motorcycles|  95|   S10_1678|   Land of Toys Inc.|      2125557818|897 Long Airport ...|        null|          NYC|      NY|     10022|      USA|       NA|             Yu|            Kwai|   Small|\n",
            "|      10121|             34|    81.35|              5| 2765.9|  5/7/2003 0:00|Shipped|     2|       5|   2003|Motorcycles|  95|   S10_1678|  Reims Collectables|      26.47.1555|  59 rue de l'Abbaye|        null|        Reims|    null|     51100|   France|     EMEA|        Henriot|            Paul|   Small|\n",
            "|      10134|             41|    94.74|              2|3884.34|  7/1/2003 0:00|Shipped|     3|       7|   2003|Motorcycles|  95|   S10_1678|     Lyon Souveniers|+33 1 46 62 7555|27 rue du Colonel...|        null|        Paris|    null|     75508|   France|     EMEA|       Da Cunha|          Daniel|  Medium|\n",
            "|      10145|             45|    83.26|              6| 3746.7| 8/25/2003 0:00|Shipped|     3|       8|   2003|Motorcycles|  95|   S10_1678|   Toys4GrownUps.com|      6265557265|  78934 Hillside Dr.|        null|     Pasadena|      CA|     90003|      USA|       NA|          Young|           Julie|  Medium|\n",
            "|      10159|             49|    100.0|             14|5205.27|10/10/2003 0:00|Shipped|     4|      10|   2003|Motorcycles|  95|   S10_1678|Corporate Gift Id...|      6505551386|     7734 Strong St.|        null|San Francisco|      CA|      null|      USA|       NA|          Brown|           Julie|  Medium|\n",
            "|      10168|             36|    96.66|              1|3479.76|10/28/2003 0:00|Shipped|     4|      10|   2003|Motorcycles|  95|   S10_1678|Technics Stores Inc.|      6505556809|   9408 Furth Circle|        null|   Burlingame|      CA|     94217|      USA|       NA|         Hirano|            Juri|  Medium|\n",
            "|      10180|             29|    86.13|              9|2497.77|11/11/2003 0:00|Shipped|     4|      11|   2003|Motorcycles|  95|   S10_1678|Daedalus Designs ...|      20.16.1555|184, chausse de T...|        null|        Lille|    null|     59000|   France|     EMEA|          Rance|         Martine|   Small|\n",
            "|      10188|             48|    100.0|              1|5512.32|11/18/2003 0:00|Shipped|     4|      11|   2003|Motorcycles|  95|   S10_1678|        Herkku Gifts|   +47 2267 3215|Drammen 121, PR 7...|        null|       Bergen|    null|    N 5804|   Norway|     EMEA|         Oeztan|          Veysel|  Medium|\n",
            "|      10201|             22|    98.57|              2|2168.54| 12/1/2003 0:00|Shipped|     4|      12|   2003|Motorcycles|  95|   S10_1678|     Mini Wheels Co.|      6505555787|5557 North Pendal...|        null|San Francisco|      CA|      null|      USA|       NA|         Murphy|           Julie|   Small|\n",
            "|      10211|             41|    100.0|             14|4708.44| 1/15/2004 0:00|Shipped|     1|       1|   2004|Motorcycles|  95|   S10_1678|    Auto Canal Petit|  (1) 47.55.6555|   25, rue Lauriston|        null|        Paris|    null|     75016|   France|     EMEA|        Perrier|       Dominique|  Medium|\n",
            "|      10223|             37|    100.0|              1|3965.66| 2/20/2004 0:00|Shipped|     1|       2|   2004|Motorcycles|  95|   S10_1678|Australian Collec...|    03 9520 4555|   636 St Kilda Road|     Level 3|    Melbourne|Victoria|      3004|Australia|     APAC|       Ferguson|           Peter|  Medium|\n",
            "|      10237|             23|    100.0|              7|2333.12|  4/5/2004 0:00|Shipped|     2|       4|   2004|Motorcycles|  95|   S10_1678|     Vitachrome Inc.|      2125551500|   2678 Kingston Rd.|   Suite 101|          NYC|      NY|     10022|      USA|       NA|          Frick|         Michael|   Small|\n",
            "|      10251|             28|    100.0|              2|3188.64| 5/18/2004 0:00|Shipped|     2|       5|   2004|Motorcycles|  95|   S10_1678|Tekni Collectable...|      2015559350|       7476 Moss Rd.|        null|       Newark|      NJ|     94019|      USA|       NA|          Brown|         William|  Medium|\n",
            "|      10263|             34|    100.0|              2|3676.76| 6/28/2004 0:00|Shipped|     2|       6|   2004|Motorcycles|  95|   S10_1678|     Gift Depot Inc.|      2035552570| 25593 South Bay Ln.|        null|  Bridgewater|      CT|     97562|      USA|       NA|           King|           Julie|  Medium|\n",
            "|      10275|             45|    92.83|              1|4177.35| 7/23/2004 0:00|Shipped|     3|       7|   2004|Motorcycles|  95|   S10_1678|   La Rochelle Gifts|      40.67.8555|67, rue des Cinqu...|        null|       Nantes|    null|     44000|   France|     EMEA|        Labrune|          Janine|  Medium|\n",
            "|      10285|             36|    100.0|              6|4099.68| 8/27/2004 0:00|Shipped|     3|       8|   2004|Motorcycles|  95|   S10_1678|Marta's Replicas Co.|      6175558555| 39323 Spinnaker Dr.|        null|    Cambridge|      MA|     51247|      USA|       NA|      Hernandez|           Marta|  Medium|\n",
            "|      10299|             23|    100.0|              9|2597.39| 9/30/2004 0:00|Shipped|     3|       9|   2004|Motorcycles|  95|   S10_1678|Toys of Finland, Co.|     90-224 8555|       Keskuskatu 45|        null|     Helsinki|    null|     21240|  Finland|     EMEA|      Karttunen|           Matti|   Small|\n",
            "|      10309|             41|    100.0|              5|4394.38|10/15/2004 0:00|Shipped|     4|      10|   2004|Motorcycles|  95|   S10_1678|  Baane Mini Imports|      07-98 9555|Erling Skakkes ga...|        null|      Stavern|    null|      4110|   Norway|     EMEA|     Bergulfsen|           Jonas|  Medium|\n",
            "|      10318|             46|    94.74|              1|4358.04| 11/2/2004 0:00|Shipped|     4|      11|   2004|Motorcycles|  95|   S10_1678|Diecast Classics ...|      2155551555|    7586 Pompton St.|        null|    Allentown|      PA|     70267|      USA|       NA|             Yu|           Kyung|  Medium|\n",
            "|      10329|             42|    100.0|              1|4396.14|11/15/2004 0:00|Shipped|     4|      11|   2004|Motorcycles|  95|   S10_1678|   Land of Toys Inc.|      2125557818|897 Long Airport ...|        null|          NYC|      NY|     10022|      USA|       NA|             Yu|            Kwai|  Medium|\n",
            "+-----------+---------------+---------+---------------+-------+---------------+-------+------+--------+-------+-----------+----+-----------+--------------------+----------------+--------------------+------------+-------------+--------+----------+---------+---------+---------------+----------------+--------+\n",
            "only showing top 20 rows\n",
            "\n"
          ]
        }
      ]
    },
    {
      "cell_type": "markdown",
      "source": [
        "###Dropping NULL Values"
      ],
      "metadata": {
        "id": "2N1nK-3lPOzs"
      }
    },
    {
      "cell_type": "code",
      "source": [
        "cleaned_sales_data=sales_data.na.drop()\n",
        "\n",
        "#After Data cleaning\n",
        "cleaned_sales_data.show()"
      ],
      "metadata": {
        "colab": {
          "base_uri": "https://localhost:8080/"
        },
        "id": "pgxkL5eS-CIz",
        "outputId": "3e38e603-f578-4cf5-f1df-48a95ce66604"
      },
      "execution_count": 54,
      "outputs": [
        {
          "output_type": "stream",
          "name": "stdout",
          "text": [
            "+-----------+---------------+---------+---------------+-------+---------------+-------+------+--------+-------+------------+----+-----------+--------------------+---------------+--------------------+------------+------------+--------+----------+---------+---------+---------------+----------------+--------+\n",
            "|ORDERNUMBER|QUANTITYORDERED|PRICEEACH|ORDERLINENUMBER|  SALES|      ORDERDATE| STATUS|QTR_ID|MONTH_ID|YEAR_ID| PRODUCTLINE|MSRP|PRODUCTCODE|        CUSTOMERNAME|          PHONE|        ADDRESSLINE1|ADDRESSLINE2|        CITY|   STATE|POSTALCODE|  COUNTRY|TERRITORY|CONTACTLASTNAME|CONTACTFIRSTNAME|DEALSIZE|\n",
            "+-----------+---------------+---------+---------------+-------+---------------+-------+------+--------+-------+------------+----+-----------+--------------------+---------------+--------------------+------------+------------+--------+----------+---------+---------+---------------+----------------+--------+\n",
            "|      10223|             37|    100.0|              1|3965.66| 2/20/2004 0:00|Shipped|     1|       2|   2004| Motorcycles|  95|   S10_1678|Australian Collec...|   03 9520 4555|   636 St Kilda Road|     Level 3|   Melbourne|Victoria|      3004|Australia|     APAC|       Ferguson|           Peter|  Medium|\n",
            "|      10237|             23|    100.0|              7|2333.12|  4/5/2004 0:00|Shipped|     2|       4|   2004| Motorcycles|  95|   S10_1678|     Vitachrome Inc.|     2125551500|   2678 Kingston Rd.|   Suite 101|         NYC|      NY|     10022|      USA|       NA|          Frick|         Michael|   Small|\n",
            "|      10361|             20|    72.55|             13| 1451.0|12/17/2004 0:00|Shipped|     4|      12|   2004| Motorcycles|  95|   S10_1678|Souveniers And Th...|+61 2 9495 8555|Monitor Money Bui...|     Level 6|   Chatswood|     NSW|      2067|Australia|     APAC|         Huxley|          Adrian|   Small|\n",
            "|      10163|             21|    100.0|              1|4860.24|10/20/2003 0:00|Shipped|     4|      10|   2003|Classic Cars| 214|   S10_1949|Classic Legends Inc.|     2125558493|    5905 Pompton St.|   Suite 750|         NYC|      NY|     10022|      USA|       NA|      Hernandez|           Maria|  Medium|\n",
            "|      10270|             21|    100.0|              9|4905.39| 7/19/2004 0:00|Shipped|     3|       7|   2004|Classic Cars| 214|   S10_1949|Souveniers And Th...|+61 2 9495 8555|Monitor Money Bui...|     Level 6|   Chatswood|     NSW|      2067|Australia|     APAC|         Huxley|          Adrian|  Medium|\n",
            "|      10347|             30|    100.0|              1| 3944.7|11/29/2004 0:00|Shipped|     4|      11|   2004|Classic Cars| 214|   S10_1949|Australian Collec...|   03 9520 4555|   636 St Kilda Road|     Level 3|   Melbourne|Victoria|      3004|Australia|     APAC|       Ferguson|           Peter|  Medium|\n",
            "|      10391|             24|    100.0|              4|2416.56|  3/9/2005 0:00|Shipped|     1|       3|   2005|Classic Cars| 214|   S10_1949|Anna's Decoration...|   02 9936 8555|   201 Miller Street|    Level 15|North Sydney|     NSW|      2060|Australia|     APAC|         O'Hara|            Anna|   Small|\n",
            "|      10120|             29|    96.34|              3|2793.86| 4/29/2003 0:00|Shipped|     2|       4|   2003| Motorcycles| 118|   S10_2016|Australian Collec...|   03 9520 4555|   636 St Kilda Road|     Level 3|   Melbourne|Victoria|      3004|Australia|     APAC|       Ferguson|           Peter|   Small|\n",
            "|      10223|             47|    100.0|              4|5422.39| 2/20/2004 0:00|Shipped|     1|       2|   2004| Motorcycles| 118|   S10_2016|Australian Collec...|   03 9520 4555|   636 St Kilda Road|     Level 3|   Melbourne|Victoria|      3004|Australia|     APAC|       Ferguson|           Peter|  Medium|\n",
            "|      10361|             26|    51.15|              8| 1329.9|12/17/2004 0:00|Shipped|     4|      12|   2004| Motorcycles| 118|   S10_2016|Souveniers And Th...|+61 2 9495 8555|Monitor Money Bui...|     Level 6|   Chatswood|     NSW|      2067|Australia|     APAC|         Huxley|          Adrian|   Small|\n",
            "|      10120|             46|    100.0|              2|9264.86| 4/29/2003 0:00|Shipped|     2|       4|   2003| Motorcycles| 193|   S10_4698|Australian Collec...|   03 9520 4555|   636 St Kilda Road|     Level 3|   Melbourne|Victoria|      3004|Australia|     APAC|       Ferguson|           Peter|   Large|\n",
            "|      10223|             49|    100.0|              3|9774.03| 2/20/2004 0:00|Shipped|     1|       2|   2004| Motorcycles| 193|   S10_4698|Australian Collec...|   03 9520 4555|   636 St Kilda Road|     Level 3|   Melbourne|Victoria|      3004|Australia|     APAC|       Ferguson|           Peter|   Large|\n",
            "|      10237|             39|    100.0|              9| 7023.9|  4/5/2004 0:00|Shipped|     2|       4|   2004| Motorcycles| 193|   S10_4698|     Vitachrome Inc.|     2125551500|   2678 Kingston Rd.|   Suite 101|         NYC|      NY|     10022|      USA|       NA|          Frick|         Michael|   Large|\n",
            "|      10337|             25|    48.05|              8|1201.25|11/21/2004 0:00|Shipped|     4|      11|   2004|Classic Cars| 136|   S10_4757|Classic Legends Inc.|     2125558493|    5905 Pompton St.|   Suite 750|         NYC|      NY|     10022|      USA|       NA|      Hernandez|           Maria|   Small|\n",
            "|      10270|             32|    100.0|              2|4302.08| 7/19/2004 0:00|Shipped|     3|       7|   2004|Classic Cars| 147|   S10_4962|Souveniers And Th...|+61 2 9495 8555|Monitor Money Bui...|     Level 6|   Chatswood|     NSW|      2067|Australia|     APAC|         Huxley|          Adrian|  Medium|\n",
            "|      10347|             27|    100.0|              2| 4428.0|11/29/2004 0:00|Shipped|     4|      11|   2004|Classic Cars| 147|   S10_4962|Australian Collec...|   03 9520 4555|   636 St Kilda Road|     Level 3|   Melbourne|Victoria|      3004|Australia|     APAC|       Ferguson|           Peter|  Medium|\n",
            "|      10370|             35|    65.63|              4|2297.05| 1/20/2005 0:00|Shipped|     1|       1|   2005|Classic Cars| 147|   S10_4962|Anna's Decoration...|   02 9936 8555|   201 Miller Street|    Level 15|North Sydney|     NSW|      2060|Australia|     APAC|         O'Hara|            Anna|   Small|\n",
            "|      10391|             37|     46.9|              7| 1735.3|  3/9/2005 0:00|Shipped|     1|       3|   2005|Classic Cars| 147|   S10_4962|Anna's Decoration...|   02 9936 8555|   201 Miller Street|    Level 15|North Sydney|     NSW|      2060|Australia|     APAC|         O'Hara|            Anna|   Small|\n",
            "|      10169|             30|    100.0|              2| 5019.9| 11/4/2003 0:00|Shipped|     4|      11|   2003|Classic Cars| 194|   S12_1099|Anna's Decoration...|   02 9936 8555|   201 Miller Street|    Level 15|North Sydney|     NSW|      2060|Australia|     APAC|         O'Hara|            Anna|  Medium|\n",
            "|      10127|             46|    100.0|              2|11279.2|  6/3/2003 0:00|Shipped|     2|       6|   2003|Classic Cars| 207|   S12_1108|  Muscle Machine Inc|     2125557413|   4092 Furth Circle|   Suite 400|         NYC|      NY|     10022|      USA|       NA|          Young|            Jeff|   Large|\n",
            "+-----------+---------------+---------+---------------+-------+---------------+-------+------+--------+-------+------------+----+-----------+--------------------+---------------+--------------------+------------+------------+--------+----------+---------+---------+---------------+----------------+--------+\n",
            "only showing top 20 rows\n",
            "\n"
          ]
        }
      ]
    },
    {
      "cell_type": "markdown",
      "source": [
        "###Dropping Duplicate Values"
      ],
      "metadata": {
        "id": "p299ozmHPUMb"
      }
    },
    {
      "cell_type": "code",
      "source": [
        "dropped_duplicates_data = cleaned_sales_data.dropna().dropDuplicates()\n",
        "dropped_duplicates_data.show()"
      ],
      "metadata": {
        "colab": {
          "base_uri": "https://localhost:8080/"
        },
        "id": "5T8bl65EEl6S",
        "outputId": "08d32185-cd91-4380-a7e8-73aae355ea26"
      },
      "execution_count": 55,
      "outputs": [
        {
          "output_type": "stream",
          "name": "stdout",
          "text": [
            "+-----------+---------------+---------+---------------+-------+---------------+----------+------+--------+-------+----------------+----+-----------+--------------------+---------------+--------------------+------------+------------+--------+----------+---------+---------+---------------+----------------+--------+\n",
            "|ORDERNUMBER|QUANTITYORDERED|PRICEEACH|ORDERLINENUMBER|  SALES|      ORDERDATE|    STATUS|QTR_ID|MONTH_ID|YEAR_ID|     PRODUCTLINE|MSRP|PRODUCTCODE|        CUSTOMERNAME|          PHONE|        ADDRESSLINE1|ADDRESSLINE2|        CITY|   STATE|POSTALCODE|  COUNTRY|TERRITORY|CONTACTLASTNAME|CONTACTFIRSTNAME|DEALSIZE|\n",
            "+-----------+---------------+---------+---------------+-------+---------------+----------+------+--------+-------+----------------+----+-----------+--------------------+---------------+--------------------+------------+------------+--------+----------+---------+---------+---------------+----------------+--------+\n",
            "|      10163|             31|    100.0|              2|3329.09|10/20/2003 0:00|   Shipped|     4|      10|   2003|    Vintage Cars| 101|   S18_2949|Classic Legends Inc.|     2125558493|    5905 Pompton St.|   Suite 750|         NYC|      NY|     10022|      USA|       NA|      Hernandez|           Maria|  Medium|\n",
            "|      10361|             34|    100.0|              6|3871.92|12/17/2004 0:00|   Shipped|     4|      12|   2004|    Vintage Cars|  65|   S24_3420|Souveniers And Th...|+61 2 9495 8555|Monitor Money Bui...|     Level 6|   Chatswood|     NSW|      2067|Australia|     APAC|         Huxley|          Adrian|  Medium|\n",
            "|      10337|             29|    100.0|              2|4498.19|11/21/2004 0:00|   Shipped|     4|      11|   2004|    Vintage Cars|  87|   S18_4522|Classic Legends Inc.|     2125558493|    5905 Pompton St.|   Suite 750|         NYC|      NY|     10022|      USA|       NA|      Hernandez|           Maria|  Medium|\n",
            "|      10139|             31|    100.0|              7|3184.94| 7/16/2003 0:00|   Shipped|     3|       7|   2003|    Vintage Cars| 102|   S18_1342|Souveniers And Th...|+61 2 9495 8555|Monitor Money Bui...|     Level 6|   Chatswood|     NSW|      2067|Australia|     APAC|         Huxley|          Adrian|  Medium|\n",
            "|      10361|             25|    62.46|              1| 1561.5|12/17/2004 0:00|   Shipped|     4|      12|   2004|          Planes|  72|   S24_4278|Souveniers And Th...|+61 2 9495 8555|Monitor Money Bui...|     Level 6|   Chatswood|     NSW|      2067|Australia|     APAC|         Huxley|          Adrian|   Small|\n",
            "|      10267|             44|    96.74|              4|4256.56|  7/7/2004 0:00|   Shipped|     3|       7|   2004|    Classic Cars|  85|   S24_3191|  Muscle Machine Inc|     2125557413|   4092 Furth Circle|   Suite 400|         NYC|      NY|     10022|      USA|       NA|          Young|            Jeff|  Medium|\n",
            "|      10169|             30|    100.0|              2| 5019.9| 11/4/2003 0:00|   Shipped|     4|      11|   2003|    Classic Cars| 194|   S12_1099|Anna's Decoration...|   02 9936 8555|   201 Miller Street|    Level 15|North Sydney|     NSW|      2060|Australia|     APAC|         O'Hara|            Anna|  Medium|\n",
            "|      10324|             27|    54.33|              1|1466.91| 11/5/2004 0:00|   Shipped|     4|      11|   2004|    Classic Cars| 151|   S12_3148|     Vitachrome Inc.|     2125551500|   2678 Kingston Rd.|   Suite 101|         NYC|      NY|     10022|      USA|       NA|          Frick|         Michael|   Small|\n",
            "|      10120|             29|    85.49|              9|2479.21| 4/29/2003 0:00|   Shipped|     2|       4|   2003|          Planes|  72|   S24_4278|Australian Collec...|   03 9520 4555|   636 St Kilda Road|     Level 3|   Melbourne|Victoria|      3004|Australia|     APAC|       Ferguson|           Peter|   Small|\n",
            "|      10420|             37|    100.0|              5| 5283.6| 5/29/2005 0:00|In Process|     2|       5|   2005|    Vintage Cars| 170|   S18_1749|Souveniers And Th...|+61 2 9495 8555|Monitor Money Bui...|     Level 6|   Chatswood|     NSW|      2067|Australia|     APAC|         Huxley|          Adrian|  Medium|\n",
            "|      10267|             38|    87.24|              3|3315.12|  7/7/2004 0:00|   Shipped|     3|       7|   2004|    Classic Cars|  90|   S24_2766|  Muscle Machine Inc|     2125557413|   4092 Furth Circle|   Suite 400|         NYC|      NY|     10022|      USA|       NA|          Young|            Jeff|  Medium|\n",
            "|      10127|             20|    60.69|              8| 1213.8|  6/3/2003 0:00|   Shipped|     2|       6|   2003|    Classic Cars|  57|   S24_1444|  Muscle Machine Inc|     2125557413|   4092 Furth Circle|   Suite 400|         NYC|      NY|     10022|      USA|       NA|          Young|            Jeff|   Small|\n",
            "|      10337|             42|    97.16|              5|4080.72|11/21/2004 0:00|   Shipped|     4|      11|   2004|           Ships|  54|   S72_3212|Classic Legends Inc.|     2125558493|    5905 Pompton St.|   Suite 750|         NYC|      NY|     10022|      USA|       NA|      Hernandez|           Maria|  Medium|\n",
            "|      10391|             42|    100.0|              3| 4998.0|  3/9/2005 0:00|   Shipped|     1|       3|   2005|    Vintage Cars|  53|   S18_1367|Anna's Decoration...|   02 9936 8555|   201 Miller Street|    Level 15|North Sydney|     NSW|      2060|Australia|     APAC|         O'Hara|            Anna|  Medium|\n",
            "|      10204|             48|    91.02|             11|4368.96| 12/2/2003 0:00|   Shipped|     4|      12|   2003|    Classic Cars| 107|   S24_3432|  Muscle Machine Inc|     2125557413|   4092 Furth Circle|   Suite 400|         NYC|      NY|     10022|      USA|       NA|          Young|            Jeff|  Medium|\n",
            "|      10163|             40|    100.0|              3| 4900.8|10/20/2003 0:00|   Shipped|     4|      10|   2003|    Vintage Cars| 104|   S18_3136|Classic Legends Inc.|     2125558493|    5905 Pompton St.|   Suite 750|         NYC|      NY|     10022|      USA|       NA|      Hernandez|           Maria|  Medium|\n",
            "|      10361|             35|    100.0|             11|4277.35|12/17/2004 0:00|   Shipped|     4|      12|   2004|          Planes|  74|  S700_4002|Souveniers And Th...|+61 2 9495 8555|Monitor Money Bui...|     Level 6|   Chatswood|     NSW|      2067|Australia|     APAC|         Huxley|          Adrian|  Medium|\n",
            "|      10163|             48|    69.96|              4|3358.08|10/20/2003 0:00|   Shipped|     4|      10|   2003|    Vintage Cars|  62|   S18_2957|Classic Legends Inc.|     2125558493|    5905 Pompton St.|   Suite 750|         NYC|      NY|     10022|      USA|       NA|      Hernandez|           Maria|  Medium|\n",
            "|      10120|             29|    96.34|              3|2793.86| 4/29/2003 0:00|   Shipped|     2|       4|   2003|     Motorcycles| 118|   S10_2016|Australian Collec...|   03 9520 4555|   636 St Kilda Road|     Level 3|   Melbourne|Victoria|      3004|Australia|     APAC|       Ferguson|           Peter|   Small|\n",
            "|      10127|             24|    100.0|             11| 2559.6|  6/3/2003 0:00|   Shipped|     2|       6|   2003|Trucks and Buses| 118|   S12_4473|  Muscle Machine Inc|     2125557413|   4092 Furth Circle|   Suite 400|         NYC|      NY|     10022|      USA|       NA|          Young|            Jeff|   Small|\n",
            "+-----------+---------------+---------+---------------+-------+---------------+----------+------+--------+-------+----------------+----+-----------+--------------------+---------------+--------------------+------------+------------+--------+----------+---------+---------+---------------+----------------+--------+\n",
            "only showing top 20 rows\n",
            "\n"
          ]
        }
      ]
    },
    {
      "cell_type": "markdown",
      "source": [
        "###Calculating Totals Sales By Each Product"
      ],
      "metadata": {
        "id": "51bGkVQ8PXw3"
      }
    },
    {
      "cell_type": "code",
      "source": [
        "calculate_total_sales_data = dropped_duplicates_data.groupBy(\"PRODUCTLINE\").sum(\"SALES\").withColumnRenamed(\"sum(SALES)\", \"TotalSales\")\n",
        "calculate_total_sales_data.show()"
      ],
      "metadata": {
        "colab": {
          "base_uri": "https://localhost:8080/"
        },
        "id": "YWtE-S2INBBp",
        "outputId": "4b04e830-90cd-4684-e327-860d46277425"
      },
      "execution_count": 71,
      "outputs": [
        {
          "output_type": "stream",
          "name": "stdout",
          "text": [
            "+----------------+-----------------+\n",
            "|     PRODUCTLINE|       TotalSales|\n",
            "+----------------+-----------------+\n",
            "|     Motorcycles|        116738.31|\n",
            "|    Vintage Cars|        199436.24|\n",
            "|           Ships|         15146.83|\n",
            "|Trucks and Buses|         120698.5|\n",
            "|    Classic Cars|379958.2299999999|\n",
            "|          Trains|          7530.65|\n",
            "|          Planes|63772.09000000001|\n",
            "+----------------+-----------------+\n",
            "\n"
          ]
        }
      ]
    },
    {
      "cell_type": "markdown",
      "source": [
        "###Creating New CSV File"
      ],
      "metadata": {
        "id": "KMCMTK17PxFJ"
      }
    },
    {
      "cell_type": "code",
      "source": [
        "calculate_total_sales_data.coalesce(1).write.csv(\"product_sales_summary.csv\", header=True)"
      ],
      "metadata": {
        "id": "2ffrjtwtPgHy"
      },
      "execution_count": 74,
      "outputs": []
    },
    {
      "cell_type": "code",
      "source": [
        "spark.stop()"
      ],
      "metadata": {
        "id": "dLbZ7gn0Pqtw"
      },
      "execution_count": 75,
      "outputs": []
    }
  ]
}