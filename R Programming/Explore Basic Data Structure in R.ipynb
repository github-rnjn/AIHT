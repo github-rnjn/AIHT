{
  "nbformat": 4,
  "nbformat_minor": 0,
  "metadata": {
    "colab": {
      "provenance": []
    },
    "kernelspec": {
      "name": "ir",
      "display_name": "R"
    },
    "language_info": {
      "name": "R"
    }
  },
  "cells": [
    {
      "cell_type": "markdown",
      "source": [
        "# Explore Basic Data Structure in R."
      ],
      "metadata": {
        "id": "ZUwl7Pgx1P7d"
      }
    },
    {
      "cell_type": "markdown",
      "source": [
        "In R, basic data structures are essential for organizing and manipulating data. The primary data structures in R include vectors, matrices, arrays, lists, data frames, and factors."
      ],
      "metadata": {
        "id": "f0EXQHsy1XpJ"
      }
    },
    {
      "cell_type": "markdown",
      "source": [
        "1. Vectors:\n",
        "\n",
        "Vectors are one-dimensional arrays that can hold elements of the same data type.\n",
        "They can be created using the c() function."
      ],
      "metadata": {
        "id": "MMGobLhq1bjU"
      }
    },
    {
      "cell_type": "code",
      "execution_count": 1,
      "metadata": {
        "colab": {
          "base_uri": "https://localhost:8080/"
        },
        "id": "-9aTaWl80-6z",
        "outputId": "39dd15e4-4fcf-4888-c29a-efa150baf2f9"
      },
      "outputs": [
        {
          "output_type": "stream",
          "name": "stdout",
          "text": [
            "[1] 1 2 3 4 5\n",
            "[1] \"apple\"  \"orange\" \"banana\"\n"
          ]
        }
      ],
      "source": [
        "# Creating a numeric vector\n",
        "numeric_vector <- c(1, 2, 3, 4, 5)\n",
        "print(numeric_vector)\n",
        "\n",
        "# Creating a character vector\n",
        "character_vector <- c(\"apple\", \"orange\", \"banana\")\n",
        "print(character_vector)"
      ]
    },
    {
      "cell_type": "markdown",
      "source": [
        "2. Matrices:\n",
        "\n",
        "Matrices are two-dimensional arrays with rows and columns.\n",
        "They can be created using the matrix() function."
      ],
      "metadata": {
        "id": "CJdrOPJ51s4D"
      }
    },
    {
      "cell_type": "code",
      "source": [
        "# Creating a matrix\n",
        "mat <- matrix(c(1, 2, 3, 4, 5, 6), nrow = 2, ncol = 3)\n",
        "print(mat)"
      ],
      "metadata": {
        "colab": {
          "base_uri": "https://localhost:8080/"
        },
        "id": "9UlW87EP1vHv",
        "outputId": "6fc0a5c0-e9e9-435c-a535-1c3c84317fcb"
      },
      "execution_count": 3,
      "outputs": [
        {
          "output_type": "stream",
          "name": "stdout",
          "text": [
            "     [,1] [,2] [,3]\n",
            "[1,]    1    3    5\n",
            "[2,]    2    4    6\n"
          ]
        }
      ]
    },
    {
      "cell_type": "markdown",
      "source": [
        "3. Arrays:\n",
        "\n",
        "Arrays are multi-dimensional extensions of matrices.\n",
        "They can be created using the array() function."
      ],
      "metadata": {
        "id": "GZuqmaft11XO"
      }
    },
    {
      "cell_type": "code",
      "source": [
        "# Creating a 3-dimensional array\n",
        "arr <- array(1:24, dim = c(2, 3, 4))\n",
        "print(arr)"
      ],
      "metadata": {
        "colab": {
          "base_uri": "https://localhost:8080/"
        },
        "id": "pvXu5ZwD15PZ",
        "outputId": "da5eea2c-7896-4812-d7bd-51d6a20b437a"
      },
      "execution_count": 4,
      "outputs": [
        {
          "output_type": "stream",
          "name": "stdout",
          "text": [
            ", , 1\n",
            "\n",
            "     [,1] [,2] [,3]\n",
            "[1,]    1    3    5\n",
            "[2,]    2    4    6\n",
            "\n",
            ", , 2\n",
            "\n",
            "     [,1] [,2] [,3]\n",
            "[1,]    7    9   11\n",
            "[2,]    8   10   12\n",
            "\n",
            ", , 3\n",
            "\n",
            "     [,1] [,2] [,3]\n",
            "[1,]   13   15   17\n",
            "[2,]   14   16   18\n",
            "\n",
            ", , 4\n",
            "\n",
            "     [,1] [,2] [,3]\n",
            "[1,]   19   21   23\n",
            "[2,]   20   22   24\n",
            "\n"
          ]
        }
      ]
    },
    {
      "cell_type": "markdown",
      "source": [
        "4. Lists:\n",
        "\n",
        "Lists can contain elements of different data types, and each element can be a vector, matrix, or even another list.\n",
        "They can be created using the list() function."
      ],
      "metadata": {
        "id": "0nwUb-zP2BAq"
      }
    },
    {
      "cell_type": "code",
      "source": [
        "# Creating a list\n",
        "my_list <- list(numeric_vector, character_vector, mat)\n",
        "print(my_list)"
      ],
      "metadata": {
        "colab": {
          "base_uri": "https://localhost:8080/"
        },
        "id": "46y3G4CK2ErN",
        "outputId": "d2c1af64-fa1b-45f7-c7cc-38113db45355"
      },
      "execution_count": 5,
      "outputs": [
        {
          "output_type": "stream",
          "name": "stdout",
          "text": [
            "[[1]]\n",
            "[1] 1 2 3 4 5\n",
            "\n",
            "[[2]]\n",
            "[1] \"apple\"  \"orange\" \"banana\"\n",
            "\n",
            "[[3]]\n",
            "     [,1] [,2] [,3]\n",
            "[1,]    1    3    5\n",
            "[2,]    2    4    6\n",
            "\n"
          ]
        }
      ]
    },
    {
      "cell_type": "markdown",
      "source": [
        "5. Data Frames:\n",
        "\n",
        "Data frames are used to store tabular data, where columns can be of different data types.\n",
        "They can be created using the data.frame() function."
      ],
      "metadata": {
        "id": "O-DqiSGM2I2Y"
      }
    },
    {
      "cell_type": "code",
      "source": [
        "# Creating a data frame\n",
        "df <- data.frame(Name = c(\"Alice\", \"Bob\", \"Charlie\"),\n",
        "                 Age = c(25, 30, 22),\n",
        "                 Score = c(95, 88, 75))\n",
        "print(df)"
      ],
      "metadata": {
        "colab": {
          "base_uri": "https://localhost:8080/"
        },
        "id": "HQ7NcKk02MX6",
        "outputId": "80352e85-60b2-4a22-9ddc-f534161127b7"
      },
      "execution_count": 6,
      "outputs": [
        {
          "output_type": "stream",
          "name": "stdout",
          "text": [
            "     Name Age Score\n",
            "1   Alice  25    95\n",
            "2     Bob  30    88\n",
            "3 Charlie  22    75\n"
          ]
        }
      ]
    },
    {
      "cell_type": "markdown",
      "source": [
        "6. Factors:\n",
        "\n",
        "Factors are used to represent categorical data and can be ordered or unordered.\n",
        "They can be created using the factor() function."
      ],
      "metadata": {
        "id": "mtgGWH1s2PH1"
      }
    },
    {
      "cell_type": "code",
      "source": [
        "# Creating a factor\n",
        "gender <- factor(c(\"Male\", \"Female\", \"Male\", \"Female\"))\n",
        "print(gender)"
      ],
      "metadata": {
        "colab": {
          "base_uri": "https://localhost:8080/"
        },
        "id": "k7KiNMBT2SE4",
        "outputId": "1b0679d5-342c-48e7-f8f5-36182a1d8450"
      },
      "execution_count": 7,
      "outputs": [
        {
          "output_type": "stream",
          "name": "stdout",
          "text": [
            "[1] Male   Female Male   Female\n",
            "Levels: Female Male\n"
          ]
        }
      ]
    }
  ]
}